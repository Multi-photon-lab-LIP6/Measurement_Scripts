{
 "cells": [
  {
   "cell_type": "code",
   "execution_count": 4,
   "metadata": {},
   "outputs": [],
   "source": [
    "import time\n",
    "import itertools\n",
    "\n",
    "import TT\n",
    "\n",
    "import motors_control\n"
   ]
  },
  {
   "cell_type": "code",
   "execution_count": 6,
   "metadata": {},
   "outputs": [],
   "source": [
    "##################################################################\n",
    "############### DEFINING AND SAVING PARAMS #######################\n",
    "##################################################################\n",
    "CHANNELS = [1 ,2 ,3, 4, 5, 6, 7, 8]\n",
    "TRIGGER = [0.11, 0.11, 0.11, 0.11, 0.11, 0.11, 0.11, 0.12]\n",
    "DELAY = [0, -860, -30350, -36650, -36030, -35570, -1050, -260]\n",
    "tt = TT.Swabian(CHANNELS, TRIGGER, DELAY, \"QST\", \"QST_Double_Layer\")\n",
    "\n",
    "AQUISITION_TIME = int(1E6) # in picosecond\n",
    "N_REP = 1\n",
    "Buffer_size =100\n",
    "i = 0\n",
    "\"\"\"\n",
    "Defining the coincidence channels we want to save\n",
    "If you change the order, make sure it matches with the analysis code\n",
    "\"\"\"\n",
    "GROUPS = [(1,3,5,7),(1,3,5,8),(1,3,6,7),(1,3,6,8),\n",
    "            (1,4,5,7),(1,4,5,8),(1,4,6,7),(1,4,6,8),\n",
    "            (2,3,5,7),(2,3,5,8),(2,3,6,7),(2,3,6,8),\n",
    "            (2,4,5,7),(2,4,5,8),(2,4,6,7),(2,4,6,8)] # unwanted double emission coincidences we need to account for in the QST\n",
    "COINCIDENCE_WINDOW = 200 # in picosecond\n",
    "\n",
    "tt.real_time_measure(AQUISITION_TIME, N_REP, GROUPS,COINCIDENCE_WINDOW,Buffer_size,data_filename=f\"\\ABCD=.txt\", save_raw=True, save_params=True)\n"
   ]
  },
  {
   "cell_type": "code",
   "execution_count": 7,
   "metadata": {},
   "outputs": [],
   "source": [
    "tt.real_time_measure(AQUISITION_TIME, N_REP, GROUPS,COINCIDENCE_WINDOW,Buffer_size,data_filename=f\"\\ABCD=.txt\", save_raw=True, save_params=True)\n"
   ]
  },
  {
   "cell_type": "code",
   "execution_count": null,
   "metadata": {},
   "outputs": [],
   "source": []
  },
  {
   "cell_type": "code",
   "execution_count": null,
   "metadata": {},
   "outputs": [],
   "source": []
  },
  {
   "cell_type": "code",
   "execution_count": null,
   "metadata": {},
   "outputs": [],
   "source": []
  },
  {
   "cell_type": "code",
   "execution_count": null,
   "metadata": {},
   "outputs": [],
   "source": []
  }
 ],
 "metadata": {
  "kernelspec": {
   "display_name": "base",
   "language": "python",
   "name": "python3"
  },
  "language_info": {
   "codemirror_mode": {
    "name": "ipython",
    "version": 3
   },
   "file_extension": ".py",
   "mimetype": "text/x-python",
   "name": "python",
   "nbconvert_exporter": "python",
   "pygments_lexer": "ipython3",
   "version": "3.8.5"
  }
 },
 "nbformat": 4,
 "nbformat_minor": 2
}
