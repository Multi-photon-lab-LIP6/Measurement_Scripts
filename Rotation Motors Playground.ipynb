{
 "cells": [
  {
   "cell_type": "code",
   "execution_count": 1,
   "metadata": {},
   "outputs": [],
   "source": [
    "import numpy as np\n",
    "\n",
    "import time\n",
    "import clr\n",
    "\n",
    "import os\n",
    "import sys\n",
    "\n",
    "# Add References to .NET libraries\n",
    "clr.AddReference(\"C:\\\\Program Files\\\\Thorlabs\\\\Kinesis\\\\Thorlabs.MotionControl.DeviceManagerCLI.dll.\")\n",
    "clr.AddReference(\"C:\\\\Program Files\\\\Thorlabs\\\\Kinesis\\\\Thorlabs.MotionControl.GenericMotorCLI.dll.\")\n",
    "\n",
    "clr.AddReference(\"C:\\\\Program Files\\\\Thorlabs\\\\Kinesis\\\\Thorlabs.MotionControl.KCube.BrushlessMotorCLI.dll.\")\n",
    "clr.AddReference(\"C:\\\\Program Files\\\\Thorlabs\\\\Kinesis\\\\ThorLabs.MotionControl.KCube.SolenoidCLI.dll\")\n",
    "clr.AddReference(\"C:\\\\Program Files\\\\Thorlabs\\\\Kinesis\\\\Thorlabs.MotionControl.Benchtop.StepperMotorCLI.dll\")\n",
    "\n",
    "from Thorlabs.MotionControl.DeviceManagerCLI import *\n",
    "from Thorlabs.MotionControl.GenericMotorCLI import *\n",
    "from Thorlabs.MotionControl.KCube.BrushlessMotorCLI import *\n",
    "from Thorlabs.MotionControl.KCube.SolenoidCLI import *\n",
    "from Thorlabs.MotionControl.Benchtop.StepperMotorCLI import *\n",
    "\n",
    "from System import Decimal\n",
    "\n",
    "import motors_control"
   ]
  },
  {
   "cell_type": "code",
   "execution_count": null,
   "metadata": {},
   "outputs": [],
   "source": [
    "# players = ['CERSEI','DANY']\n",
    "# arya, bran, cersei, dany = motors_control.players_init(players)#, sample=[\"SQWP1\",\"SHWP\",\"SQWP2\"])"
   ]
  },
  {
   "cell_type": "code",
   "execution_count": 11,
   "metadata": {
    "scrolled": false
   },
   "outputs": [
    {
     "name": "stdout",
     "output_type": "stream",
     "text": [
      "[<Thorlabs.MotionControl.KCube.BrushlessMotorCLI.KCubeBrushlessMotor object at 0x00000205F404B840>, <Thorlabs.MotionControl.KCube.BrushlessMotorCLI.KCubeBrushlessMotor object at 0x00000205F404BA00>]\n",
      "Homing Device: ARYA HWP\n",
      "Device Homed: ARYA HWP\n",
      "Homing Device: ARYA QWP\n",
      "Device Homed: ARYA QWP\n",
      "[<Thorlabs.MotionControl.KCube.BrushlessMotorCLI.KCubeBrushlessMotor object at 0x00000205F404BC80>, <Thorlabs.MotionControl.KCube.BrushlessMotorCLI.KCubeBrushlessMotor object at 0x00000205F404B7C0>, <Thorlabs.MotionControl.KCube.BrushlessMotorCLI.KCubeBrushlessMotor object at 0x00000205F404BCC0>]\n",
      "Homing Device: ARYA SQWP1\n",
      "Device Homed: ARYA SQWP1\n",
      "Homing Device: ARYA SHWP\n",
      "Device Homed: ARYA SHWP\n",
      "Homing Device: ARYA SQWP2\n",
      "Device Homed: ARYA SQWP2\n",
      "[<Thorlabs.MotionControl.KCube.BrushlessMotorCLI.KCubeBrushlessMotor object at 0x00000205F6500400>, <Thorlabs.MotionControl.KCube.BrushlessMotorCLI.KCubeBrushlessMotor object at 0x00000205F404BBC0>]\n",
      "Homing Device: BRAN HWP\n",
      "Device Homed: BRAN HWP\n",
      "Homing Device: BRAN QWP\n",
      "Device Homed: BRAN QWP\n",
      "[<Thorlabs.MotionControl.KCube.BrushlessMotorCLI.KCubeBrushlessMotor object at 0x00000205F655D7C0>, <Thorlabs.MotionControl.KCube.BrushlessMotorCLI.KCubeBrushlessMotor object at 0x00000205F655D9C0>, <Thorlabs.MotionControl.KCube.BrushlessMotorCLI.KCubeBrushlessMotor object at 0x00000205F655D5C0>]\n",
      "Homing Device: BRAN SQWP1\n",
      "Device Homed: BRAN SQWP1\n",
      "Homing Device: BRAN SHWP\n",
      "Device Homed: BRAN SHWP\n",
      "Homing Device: BRAN SQWP2\n",
      "Device Homed: BRAN SQWP2\n",
      "[<Thorlabs.MotionControl.KCube.BrushlessMotorCLI.KCubeBrushlessMotor object at 0x00000205F655D580>, <Thorlabs.MotionControl.KCube.BrushlessMotorCLI.KCubeBrushlessMotor object at 0x00000205F655DE00>]\n",
      "Homing Device: CERSEI HWP\n",
      "Device Homed: CERSEI HWP\n",
      "Homing Device: CERSEI QWP\n",
      "Device Homed: CERSEI QWP\n",
      "[<Thorlabs.MotionControl.KCube.BrushlessMotorCLI.KCubeBrushlessMotor object at 0x00000205F655D280>, <Thorlabs.MotionControl.KCube.BrushlessMotorCLI.KCubeBrushlessMotor object at 0x00000205F655DE80>, <Thorlabs.MotionControl.KCube.BrushlessMotorCLI.KCubeBrushlessMotor object at 0x00000205F655D1C0>]\n",
      "Homing Device: CERSEI SQWP1\n",
      "Device Homed: CERSEI SQWP1\n",
      "Homing Device: CERSEI SHWP\n",
      "Device Homed: CERSEI SHWP\n",
      "Homing Device: CERSEI SQWP2\n",
      "Device Homed: CERSEI SQWP2\n",
      "[<Thorlabs.MotionControl.KCube.BrushlessMotorCLI.KCubeBrushlessMotor object at 0x00000205F655D380>, <Thorlabs.MotionControl.KCube.BrushlessMotorCLI.KCubeBrushlessMotor object at 0x00000205F655D600>]\n",
      "Homing Device: DANY HWP\n",
      "Device Homed: DANY HWP\n",
      "Homing Device: DANY QWP\n",
      "Device Homed: DANY QWP\n",
      "[<Thorlabs.MotionControl.KCube.BrushlessMotorCLI.KCubeBrushlessMotor object at 0x00000205F654AF80>, <Thorlabs.MotionControl.KCube.BrushlessMotorCLI.KCubeBrushlessMotor object at 0x00000205F654AF40>, <Thorlabs.MotionControl.KCube.BrushlessMotorCLI.KCubeBrushlessMotor object at 0x00000205F654AE80>]\n",
      "Homing Device: DANY SQWP1\n",
      "Device Homed: DANY SQWP1\n",
      "Homing Device: DANY SHWP\n",
      "Device Homed: DANY SHWP\n",
      "Homing Device: DANY SQWP2\n",
      "Device Homed: DANY SQWP2\n"
     ]
    }
   ],
   "source": [
    "players = ['ARYA','BRAN','CERSEI','DANY']\n",
    "arya, bran, cersei, dany = motors_control.players_init(players, sample=[\"SQWP1\",\"SHWP\",\"SQWP2\"])\n"
   ]
  },
  {
   "cell_type": "code",
   "execution_count": null,
   "metadata": {},
   "outputs": [],
   "source": [
    "#arya.wp[0].GetVelocityParams()\n",
    "\n",
    "#arya.wp[1].SetVelocityParams(Decimal(1800), Decimal(5000))\n",
    "#arya.set_velocity(1,1)"
   ]
  },
  {
   "cell_type": "code",
   "execution_count": 21,
   "metadata": {},
   "outputs": [
    {
     "ename": "DeviceMovingException",
     "evalue": "Device already moving\r\n   at Thorlabs.MotionControl.GenericMotorCLI.AdvancedMotor.GenericAdvancedMotorCLI.VerifyDeviceMovement(Int32 functionDepth, VerifyMovementFlags flags)\r\n   at Thorlabs.MotionControl.GenericMotorCLI.AdvancedMotor.GenericAdvancedMotorCLI.MoveTo(Decimal position, Int32 waitTimeout)",
     "output_type": "error",
     "traceback": [
      "\u001b[1;31m---------------------------------------------------------------------------\u001b[0m",
      "\u001b[1;31mDeviceMovingException\u001b[0m                     Traceback (most recent call last)",
      "\u001b[1;32m<ipython-input-21-2845f8d98091>\u001b[0m in \u001b[0;36m<module>\u001b[1;34m\u001b[0m\n\u001b[0;32m      1\u001b[0m \u001b[0mstart\u001b[0m \u001b[1;33m=\u001b[0m \u001b[0mtime\u001b[0m\u001b[1;33m.\u001b[0m\u001b[0mtime\u001b[0m\u001b[1;33m(\u001b[0m\u001b[1;33m)\u001b[0m\u001b[1;33m\u001b[0m\u001b[1;33m\u001b[0m\u001b[0m\n\u001b[1;32m----> 2\u001b[1;33m \u001b[0marya\u001b[0m\u001b[1;33m[\u001b[0m\u001b[1;36m0\u001b[0m\u001b[1;33m]\u001b[0m\u001b[1;33m.\u001b[0m\u001b[0mset_meas_basis\u001b[0m\u001b[1;33m(\u001b[0m\u001b[1;34m\"x\"\u001b[0m\u001b[1;33m)\u001b[0m\u001b[1;33m\u001b[0m\u001b[1;33m\u001b[0m\u001b[0m\n\u001b[0m\u001b[0;32m      3\u001b[0m \u001b[0mprint\u001b[0m\u001b[1;33m(\u001b[0m\u001b[0mtime\u001b[0m\u001b[1;33m.\u001b[0m\u001b[0mtime\u001b[0m\u001b[1;33m(\u001b[0m\u001b[1;33m)\u001b[0m \u001b[1;33m-\u001b[0m \u001b[0mstart\u001b[0m\u001b[1;33m)\u001b[0m\u001b[1;33m\u001b[0m\u001b[1;33m\u001b[0m\u001b[0m\n",
      "\u001b[1;32mc:\\Users\\Experience\\Desktop\\Multipartite Entanglement Experiment\\Measurement_Scripts\\motors_control.py\u001b[0m in \u001b[0;36mset_meas_basis\u001b[1;34m(self, basis)\u001b[0m\n\u001b[0;32m    160\u001b[0m     \u001b[1;32mdef\u001b[0m \u001b[0mset_meas_basis\u001b[0m\u001b[1;33m(\u001b[0m\u001b[0mself\u001b[0m\u001b[1;33m,\u001b[0m \u001b[0mbasis\u001b[0m\u001b[1;33m)\u001b[0m\u001b[1;33m:\u001b[0m\u001b[1;33m\u001b[0m\u001b[1;33m\u001b[0m\u001b[0m\n\u001b[0;32m    161\u001b[0m         \u001b[0mself\u001b[0m\u001b[1;33m.\u001b[0m\u001b[0mwp\u001b[0m\u001b[1;33m[\u001b[0m\u001b[1;36m0\u001b[0m\u001b[1;33m]\u001b[0m\u001b[1;33m.\u001b[0m\u001b[0mMoveTo\u001b[0m\u001b[1;33m(\u001b[0m\u001b[0mDecimal\u001b[0m\u001b[1;33m(\u001b[0m\u001b[1;33m(\u001b[0m\u001b[0mMEAS_WP_ANGLES\u001b[0m\u001b[1;33m[\u001b[0m\u001b[0mstr\u001b[0m\u001b[1;33m(\u001b[0m\u001b[0mbasis\u001b[0m\u001b[1;33m)\u001b[0m\u001b[1;33m]\u001b[0m\u001b[1;33m[\u001b[0m\u001b[1;34m\"HWP\"\u001b[0m\u001b[1;33m]\u001b[0m\u001b[1;33m+\u001b[0m\u001b[0mWP_ZEROS\u001b[0m\u001b[1;33m[\u001b[0m\u001b[0mself\u001b[0m\u001b[1;33m.\u001b[0m\u001b[0mname\u001b[0m\u001b[1;33m]\u001b[0m\u001b[1;33m[\u001b[0m\u001b[1;34m\"HWP\"\u001b[0m\u001b[1;33m]\u001b[0m\u001b[1;33m)\u001b[0m\u001b[1;33m%\u001b[0m\u001b[1;36m360\u001b[0m\u001b[1;33m)\u001b[0m\u001b[1;33m,\u001b[0m \u001b[1;36m10000\u001b[0m\u001b[1;33m)\u001b[0m\u001b[1;33m\u001b[0m\u001b[1;33m\u001b[0m\u001b[0m\n\u001b[1;32m--> 162\u001b[1;33m         \u001b[0mself\u001b[0m\u001b[1;33m.\u001b[0m\u001b[0mwp\u001b[0m\u001b[1;33m[\u001b[0m\u001b[1;36m1\u001b[0m\u001b[1;33m]\u001b[0m\u001b[1;33m.\u001b[0m\u001b[0mMoveTo\u001b[0m\u001b[1;33m(\u001b[0m\u001b[0mDecimal\u001b[0m\u001b[1;33m(\u001b[0m\u001b[1;33m(\u001b[0m\u001b[0mMEAS_WP_ANGLES\u001b[0m\u001b[1;33m[\u001b[0m\u001b[0mstr\u001b[0m\u001b[1;33m(\u001b[0m\u001b[0mbasis\u001b[0m\u001b[1;33m)\u001b[0m\u001b[1;33m]\u001b[0m\u001b[1;33m[\u001b[0m\u001b[1;34m\"QWP\"\u001b[0m\u001b[1;33m]\u001b[0m\u001b[1;33m+\u001b[0m\u001b[0mWP_ZEROS\u001b[0m\u001b[1;33m[\u001b[0m\u001b[0mself\u001b[0m\u001b[1;33m.\u001b[0m\u001b[0mname\u001b[0m\u001b[1;33m]\u001b[0m\u001b[1;33m[\u001b[0m\u001b[1;34m\"QWP\"\u001b[0m\u001b[1;33m]\u001b[0m\u001b[1;33m)\u001b[0m\u001b[1;33m%\u001b[0m\u001b[1;36m360\u001b[0m\u001b[1;33m)\u001b[0m\u001b[1;33m,\u001b[0m \u001b[1;36m10000\u001b[0m\u001b[1;33m)\u001b[0m\u001b[1;33m\u001b[0m\u001b[1;33m\u001b[0m\u001b[0m\n\u001b[0m\u001b[0;32m    163\u001b[0m \u001b[1;33m\u001b[0m\u001b[0m\n\u001b[0;32m    164\u001b[0m     \u001b[1;32mdef\u001b[0m \u001b[0mset_meas_angles\u001b[0m\u001b[1;33m(\u001b[0m\u001b[0mself\u001b[0m\u001b[1;33m,\u001b[0m \u001b[0mangles\u001b[0m\u001b[1;33m)\u001b[0m\u001b[1;33m:\u001b[0m\u001b[1;33m\u001b[0m\u001b[1;33m\u001b[0m\u001b[0m\n",
      "\u001b[1;31mDeviceMovingException\u001b[0m: Device already moving\r\n   at Thorlabs.MotionControl.GenericMotorCLI.AdvancedMotor.GenericAdvancedMotorCLI.VerifyDeviceMovement(Int32 functionDepth, VerifyMovementFlags flags)\r\n   at Thorlabs.MotionControl.GenericMotorCLI.AdvancedMotor.GenericAdvancedMotorCLI.MoveTo(Decimal position, Int32 waitTimeout)"
     ]
    }
   ],
   "source": [
    "start = time.time()\n",
    "arya[0].set_meas_basis(\"x\")\n",
    "print(time.time() - start)"
   ]
  },
  {
   "cell_type": "code",
   "execution_count": 3,
   "metadata": {},
   "outputs": [],
   "source": [
    "random_number_list = []\n",
    "with open(r\"C:\\Users\\Experience\\Desktop\\QRNG\\random_sample.txt\", mode ='r') as file:\n",
    "    for line in file:\n",
    "        random_number_list.append(int(line.split()[0]))\n",
    "file.close()"
   ]
  },
  {
   "cell_type": "code",
   "execution_count": 16,
   "metadata": {},
   "outputs": [
    {
     "name": "stdout",
     "output_type": "stream",
     "text": [
      "[3, 1, 15, 15, 13, 13, 7, 15, 12, 6, 10, 0, 12, 12, 14, 15, 6, 1, 2, 12]\n"
     ]
    }
   ],
   "source": [
    "print(random_number_list[:20])"
   ]
  },
  {
   "cell_type": "code",
   "execution_count": 30,
   "metadata": {},
   "outputs": [],
   "source": [
    "arya.set_sample_angles([0,0,0])\n",
    "bran.set_sample_angles([0,0,0])\n",
    "cersei.set_sample_angles([0,0,0])\n",
    "dany.set_sample_angles([0,0,0])"
   ]
  },
  {
   "cell_type": "code",
   "execution_count": 5,
   "metadata": {},
   "outputs": [
    {
     "data": {
      "text/plain": [
       "13.88888888888889"
      ]
     },
     "execution_count": 5,
     "metadata": {},
     "output_type": "execute_result"
    }
   ],
   "source": [
    "5*0.6*20*20000/(3600*24)\n"
   ]
  },
  {
   "cell_type": "code",
   "execution_count": 52,
   "metadata": {},
   "outputs": [],
   "source": [
    "arya.set_meas_basis(\"z\")\n",
    "bran.set_meas_basis(\"z\")\n",
    "cersei.set_meas_basis(\"z\")\n",
    "dany.set_meas_basis(\"z\")"
   ]
  },
  {
   "cell_type": "code",
   "execution_count": 53,
   "metadata": {},
   "outputs": [],
   "source": [
    "arya.set_meas_basis(\"x\")\n",
    "bran.set_meas_basis(\"x\")\n",
    "cersei.set_meas_basis(\"x\")\n",
    "dany.set_meas_basis(\"x\")"
   ]
  },
  {
   "cell_type": "code",
   "execution_count": 54,
   "metadata": {},
   "outputs": [],
   "source": [
    "arya.off()\n",
    "arya.off_sample()\n",
    "bran.off()\n",
    "bran.off_sample()\n",
    "cersei.off()\n",
    "cersei.off_sample()\n",
    "dany.off()\n",
    "dany.off_sample()"
   ]
  },
  {
   "cell_type": "code",
   "execution_count": 45,
   "metadata": {},
   "outputs": [],
   "source": [
    "arya.set_meas_basis(\"x\")\n",
    "arya.set_meas_basis(\"z\")\n"
   ]
  },
  {
   "cell_type": "code",
   "execution_count": 43,
   "metadata": {},
   "outputs": [],
   "source": [
    "cersei.set_meas_basis(\"x\")\n",
    "cersei.set_meas_basis(\"z\")\n"
   ]
  },
  {
   "cell_type": "code",
   "execution_count": null,
   "metadata": {},
   "outputs": [],
   "source": [
    "players = ['BRAN','CERSEI','DANY']\n",
    "bran, cersei, dany = motors_control.players_init(players, sample=[\"SQWP1\",\"SHWP\",\"SQWP2\"])"
   ]
  }
 ],
 "metadata": {
  "kernelspec": {
   "display_name": "base",
   "language": "python",
   "name": "python3"
  },
  "language_info": {
   "codemirror_mode": {
    "name": "ipython",
    "version": 3
   },
   "file_extension": ".py",
   "mimetype": "text/x-python",
   "name": "python",
   "nbconvert_exporter": "python",
   "pygments_lexer": "ipython3",
   "version": "3.8.5"
  }
 },
 "nbformat": 4,
 "nbformat_minor": 4
}
