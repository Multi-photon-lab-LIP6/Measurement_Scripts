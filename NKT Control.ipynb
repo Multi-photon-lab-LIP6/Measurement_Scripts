{
 "cells": [
  {
   "cell_type": "code",
   "execution_count": 16,
   "metadata": {},
   "outputs": [],
   "source": [
    "from NKTP_DLL import *\n",
    "from time import sleep\n",
    "import numpy as no"
   ]
  },
  {
   "cell_type": "code",
   "execution_count": 2,
   "metadata": {},
   "outputs": [
    {
     "name": "stdout",
     "output_type": "stream",
     "text": [
      "Opening the comport: 0:OPSuccess\n"
     ]
    }
   ],
   "source": [
    "openResult = openPorts('COM6', 0, 0)\n",
    "print('Opening the comport:', PortResultTypes(openResult))"
   ]
  },
  {
   "cell_type": "code",
   "execution_count": 80,
   "metadata": {},
   "outputs": [
    {
     "name": "stdout",
     "output_type": "stream",
     "text": [
      "Turn on emission: 0:RegResultSuccess\n"
     ]
    }
   ],
   "source": [
    "# Example - Turn on emission on BASIK (K1x2) by setting register 0x30 = 1\n",
    "# See SDK Instruction Manual page 41\n",
    "wrResult = registerWriteU8('COM6', 1, 0x30, 0, -1) \n",
    "print('Turn on emission:', RegisterResultTypes(wrResult))"
   ]
  },
  {
   "cell_type": "code",
   "execution_count": 12,
   "metadata": {},
   "outputs": [
    {
     "name": "stdout",
     "output_type": "stream",
     "text": [
      "Reading power: 0:RegResultSuccess\n"
     ]
    }
   ],
   "source": [
    "# Set power\n",
    "wrResult = registerWriteU16('COM6', 1, 0x22, 3000, -1)\n",
    "print('Reading power:', RegisterResultTypes(wrResult))"
   ]
  },
  {
   "cell_type": "code",
   "execution_count": 13,
   "metadata": {},
   "outputs": [
    {
     "name": "stdout",
     "output_type": "stream",
     "text": [
      "Reading power: (0, 3004)\n"
     ]
    }
   ],
   "source": [
    "# Read power\n",
    "rdResult = registerReadU16('COM6', 1, 0x17, -1)\n",
    "print('Reading power:', rdResult)"
   ]
  },
  {
   "cell_type": "code",
   "execution_count": 25,
   "metadata": {},
   "outputs": [],
   "source": [
    "import numpy as np\n",
    "# In 1/10 pm\n",
    "start=15480000\n",
    "stop=15530000\n",
    "inc=200\n",
    "no_points=(stop-start)/inc\n",
    "\n",
    "\n",
    "w_list=np.linspace(start,start+round(no_points)*inc,round(no_points)+1)\n",
    "w_offset_list = w_list - 15501200"
   ]
  },
  {
   "cell_type": "code",
   "execution_count": 69,
   "metadata": {},
   "outputs": [
    {
     "data": {
      "text/plain": [
       "-21200.0"
      ]
     },
     "execution_count": 69,
     "metadata": {},
     "output_type": "execute_result"
    }
   ],
   "source": [
    "w_offset_list[0]"
   ]
  },
  {
   "cell_type": "code",
   "execution_count": 51,
   "metadata": {},
   "outputs": [
    {
     "name": "stdout",
     "output_type": "stream",
     "text": [
      "Reading power: (0, 15501200)\n"
     ]
    }
   ],
   "source": [
    "# Read wavelength standard\n",
    "rdResult = registerReadU32('COM6', 1, 0x32, -1)\n",
    "print('Reading wavelength standard:', rdResult)"
   ]
  },
  {
   "cell_type": "code",
   "execution_count": 79,
   "metadata": {},
   "outputs": [
    {
     "name": "stdout",
     "output_type": "stream",
     "text": [
      "Reading wavelength offset: (0, -1455)\n"
     ]
    }
   ],
   "source": [
    "# Read wavelength offset\n",
    "rdResult = registerReadS32('COM6', 1, 0x72, -1)\n",
    "print('Reading wavelength offset:', rdResult)"
   ]
  },
  {
   "cell_type": "code",
   "execution_count": 77,
   "metadata": {},
   "outputs": [
    {
     "data": {
      "text/plain": [
       "0"
      ]
     },
     "execution_count": 77,
     "metadata": {},
     "output_type": "execute_result"
    }
   ],
   "source": [
    "#Write wv offset\n",
    "registerWriteS32('COM6', 1, 0x2A, 0, -1)"
   ]
  },
  {
   "cell_type": "code",
   "execution_count": null,
   "metadata": {},
   "outputs": [],
   "source": []
  },
  {
   "cell_type": "code",
   "execution_count": null,
   "metadata": {},
   "outputs": [],
   "source": []
  },
  {
   "cell_type": "code",
   "execution_count": null,
   "metadata": {},
   "outputs": [],
   "source": []
  },
  {
   "cell_type": "code",
   "execution_count": 49,
   "metadata": {},
   "outputs": [
    {
     "name": "stdout",
     "output_type": "stream",
     "text": [
      "Reading power: (0, 3005)\n"
     ]
    }
   ],
   "source": [
    "rdResult = registerReadU16('COM6', 1, 0x17, -1)\n",
    "print('Reading power:', rdResult)"
   ]
  },
  {
   "cell_type": "code",
   "execution_count": null,
   "metadata": {},
   "outputs": [],
   "source": [
    "wrResult = registerWriteS16('COM6', 1, 0x2A, , -1)\n",
    "print('Reading power:', RegisterResultTypes(wrResult))"
   ]
  },
  {
   "cell_type": "code",
   "execution_count": null,
   "metadata": {},
   "outputs": [],
   "source": [
    "rdResult = registerReadS16('COM6', 1, 0x2A, -1)\n",
    "print('Reading power:', rdResult)"
   ]
  },
  {
   "cell_type": "code",
   "execution_count": null,
   "metadata": {},
   "outputs": [],
   "source": []
  },
  {
   "cell_type": "code",
   "execution_count": null,
   "metadata": {},
   "outputs": [],
   "source": []
  },
  {
   "cell_type": "code",
   "execution_count": null,
   "metadata": {},
   "outputs": [],
   "source": []
  },
  {
   "cell_type": "code",
   "execution_count": null,
   "metadata": {},
   "outputs": [],
   "source": []
  },
  {
   "cell_type": "code",
   "execution_count": null,
   "metadata": {},
   "outputs": [],
   "source": []
  },
  {
   "cell_type": "code",
   "execution_count": 81,
   "metadata": {},
   "outputs": [
    {
     "name": "stdout",
     "output_type": "stream",
     "text": [
      "Close the comport: 0:OPSuccess\n"
     ]
    }
   ],
   "source": [
    "# Close the Internet port\n",
    "closeResult = closePorts('COM6')\n",
    "print('Close the comport:', PortResultTypes(closeResult))"
   ]
  },
  {
   "cell_type": "code",
   "execution_count": null,
   "metadata": {},
   "outputs": [],
   "source": []
  }
 ],
 "metadata": {
  "kernelspec": {
   "display_name": "Python 3",
   "language": "python",
   "name": "python3"
  },
  "language_info": {
   "codemirror_mode": {
    "name": "ipython",
    "version": 3
   },
   "file_extension": ".py",
   "mimetype": "text/x-python",
   "name": "python",
   "nbconvert_exporter": "python",
   "pygments_lexer": "ipython3",
   "version": "3.8.5"
  }
 },
 "nbformat": 4,
 "nbformat_minor": 4
}
